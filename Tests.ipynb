{
 "cells": [
  {
   "cell_type": "code",
   "execution_count": 1,
   "id": "2518f6c4-0656-4b8f-86e0-41e329f873bc",
   "metadata": {},
   "outputs": [
    {
     "name": "stdout",
     "output_type": "stream",
     "text": [
      "{'message': 'Order created successfully!'}\n"
     ]
    }
   ],
   "source": [
    "import requests\n",
    "\n",
    "data = {\n",
    "    \"customer_name\": \"John Doe\",\n",
    "    \"product_name\": \"Laptop\",\n",
    "    \"quantity\": 1,\n",
    "    \"price\": 999.99\n",
    "}\n",
    "\n",
    "response = requests.post(\"http://127.0.0.1:5000/orders\", json=data)\n",
    "print(response.json())\n"
   ]
  },
  {
   "cell_type": "code",
   "execution_count": 3,
   "id": "e6a7aa41-72fd-4e17-955e-81add5e22bca",
   "metadata": {},
   "outputs": [
    {
     "name": "stdout",
     "output_type": "stream",
     "text": [
      "[{'customer_name': 'John Doe', 'id': 1, 'price': 999.99, 'product_name': 'Laptop', 'quantity': 1}]\n"
     ]
    }
   ],
   "source": [
    "response = requests.get(\"http://127.0.0.1:5000/orders\")\n",
    "print(response.json())\n"
   ]
  },
  {
   "cell_type": "code",
   "execution_count": null,
   "id": "bf5802aa-f24b-4a9c-a821-b8f7b6bcf621",
   "metadata": {},
   "outputs": [],
   "source": []
  }
 ],
 "metadata": {
  "kernelspec": {
   "display_name": "Python [conda env:base] *",
   "language": "python",
   "name": "conda-base-py"
  },
  "language_info": {
   "codemirror_mode": {
    "name": "ipython",
    "version": 3
   },
   "file_extension": ".py",
   "mimetype": "text/x-python",
   "name": "python",
   "nbconvert_exporter": "python",
   "pygments_lexer": "ipython3",
   "version": "3.12.7"
  }
 },
 "nbformat": 4,
 "nbformat_minor": 5
}
